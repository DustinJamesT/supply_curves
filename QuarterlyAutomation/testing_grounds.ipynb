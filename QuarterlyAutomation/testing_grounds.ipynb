{
 "cells": [
  {
   "cell_type": "code",
   "execution_count": null,
   "metadata": {},
   "outputs": [],
   "source": [
    "# -- imports\n",
    "# --- data sci\n",
    "import pandas \n",
    "\n",
    "# --- plots \n",
    "import matplotlib\n",
    "\n",
    "# --- io \n",
    "import requests \n",
    "import datetime\n",
    "import time \n",
    "\n",
    "# --- local \n",
    "from alending_subgraph import alending_subgraph"
   ]
  }
 ],
 "metadata": {
  "kernelspec": {
   "display_name": "messari-djt",
   "language": "python",
   "name": "messari-djt"
  },
  "language_info": {
   "name": "python",
   "version": "3.10.5"
  },
  "orig_nbformat": 4
 },
 "nbformat": 4,
 "nbformat_minor": 2
}
